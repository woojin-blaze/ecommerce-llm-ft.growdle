{
 "cells": [
  {
   "cell_type": "markdown",
   "metadata": {},
   "source": [
    "### data1의 중국어 상품명을 한국어로 번역하고 카테고리를 분류한 결과를 data2에 저장\n",
    "\n",
    "1. data/categories.txt에 카테고리 목록 저장되어 있음\n",
    "2. data2.csv\n",
    "    - product_name_kor : 한국어 상품명 (번역 결과)\n",
    "    - product_category : 카테고리\n",
    "    - product_selling_points : 상품 셀링 포인트"
   ]
  },
  {
   "cell_type": "code",
   "execution_count": 2,
   "metadata": {},
   "outputs": [],
   "source": [
    "from langchain_openai import ChatOpenAI\n",
    "from langchain_core.prompts import ChatPromptTemplate\n",
    "from langchain_core.output_parsers import StrOutputParser\n",
    "from langchain_core.runnables import RunnablePassthrough\n",
    "import pandas as pd"
   ]
  },
  {
   "cell_type": "code",
   "execution_count": 3,
   "metadata": {},
   "outputs": [
    {
     "ename": "FileNotFoundError",
     "evalue": "[Errno 2] No such file or directory: 'data/categories.txt'",
     "output_type": "error",
     "traceback": [
      "\u001b[1;31m---------------------------------------------------------------------------\u001b[0m",
      "\u001b[1;31mFileNotFoundError\u001b[0m                         Traceback (most recent call last)",
      "Cell \u001b[1;32mIn[3], line 6\u001b[0m\n\u001b[0;32m      3\u001b[0m prompt_text1 \u001b[38;5;241m=\u001b[39m \u001b[38;5;124m\"\u001b[39m\u001b[38;5;124mTranslate \u001b[39m\u001b[38;5;124m'\u001b[39m\u001b[38;5;132;01m{chinese}\u001b[39;00m\u001b[38;5;124m'\u001b[39m\u001b[38;5;124m into Korean.(Do not include quotes)\u001b[39m\u001b[38;5;124m\"\u001b[39m\n\u001b[0;32m      4\u001b[0m prompt1 \u001b[38;5;241m=\u001b[39m ChatPromptTemplate\u001b[38;5;241m.\u001b[39mfrom_template(prompt_text1)\n\u001b[1;32m----> 6\u001b[0m \u001b[38;5;28;01mwith\u001b[39;00m \u001b[38;5;28mopen\u001b[39m(\u001b[38;5;124m\"\u001b[39m\u001b[38;5;124mdata/categories.txt\u001b[39m\u001b[38;5;124m\"\u001b[39m, \u001b[38;5;124m'\u001b[39m\u001b[38;5;124mr\u001b[39m\u001b[38;5;124m'\u001b[39m, encoding\u001b[38;5;241m=\u001b[39m\u001b[38;5;124m'\u001b[39m\u001b[38;5;124mutf-8\u001b[39m\u001b[38;5;124m'\u001b[39m) \u001b[38;5;28;01mas\u001b[39;00m file: categories \u001b[38;5;241m=\u001b[39m file\u001b[38;5;241m.\u001b[39mread()\n\u001b[0;32m      8\u001b[0m prompt_text2 \u001b[38;5;241m=\u001b[39m \u001b[38;5;124m\"\u001b[39m\u001b[38;5;124mClassify the product \u001b[39m\u001b[38;5;124m'\u001b[39m\u001b[38;5;132;01m{product}\u001b[39;00m\u001b[38;5;124m'\u001b[39m\u001b[38;5;124m into one of the categories below.\u001b[39m\u001b[38;5;124m\"\u001b[39m \\\n\u001b[0;32m      9\u001b[0m                \u001b[38;5;124m\"\u001b[39m\u001b[38;5;124m(Nothing is needed other than the category itself)\u001b[39m\u001b[38;5;130;01m\\n\u001b[39;00m\u001b[38;5;124mCategories:\u001b[39m\u001b[38;5;130;01m\\n\u001b[39;00m\u001b[38;5;124m\"\u001b[39m \u001b[38;5;241m+\u001b[39m categories\n\u001b[0;32m     10\u001b[0m prompt2 \u001b[38;5;241m=\u001b[39m ChatPromptTemplate\u001b[38;5;241m.\u001b[39mfrom_template(prompt_text2)\n",
      "File \u001b[1;32m~\\AppData\\Roaming\\Python\\Python311\\site-packages\\IPython\\core\\interactiveshell.py:324\u001b[0m, in \u001b[0;36m_modified_open\u001b[1;34m(file, *args, **kwargs)\u001b[0m\n\u001b[0;32m    317\u001b[0m \u001b[38;5;28;01mif\u001b[39;00m file \u001b[38;5;129;01min\u001b[39;00m {\u001b[38;5;241m0\u001b[39m, \u001b[38;5;241m1\u001b[39m, \u001b[38;5;241m2\u001b[39m}:\n\u001b[0;32m    318\u001b[0m     \u001b[38;5;28;01mraise\u001b[39;00m \u001b[38;5;167;01mValueError\u001b[39;00m(\n\u001b[0;32m    319\u001b[0m         \u001b[38;5;124mf\u001b[39m\u001b[38;5;124m\"\u001b[39m\u001b[38;5;124mIPython won\u001b[39m\u001b[38;5;124m'\u001b[39m\u001b[38;5;124mt let you open fd=\u001b[39m\u001b[38;5;132;01m{\u001b[39;00mfile\u001b[38;5;132;01m}\u001b[39;00m\u001b[38;5;124m by default \u001b[39m\u001b[38;5;124m\"\u001b[39m\n\u001b[0;32m    320\u001b[0m         \u001b[38;5;124m\"\u001b[39m\u001b[38;5;124mas it is likely to crash IPython. If you know what you are doing, \u001b[39m\u001b[38;5;124m\"\u001b[39m\n\u001b[0;32m    321\u001b[0m         \u001b[38;5;124m\"\u001b[39m\u001b[38;5;124myou can use builtins\u001b[39m\u001b[38;5;124m'\u001b[39m\u001b[38;5;124m open.\u001b[39m\u001b[38;5;124m\"\u001b[39m\n\u001b[0;32m    322\u001b[0m     )\n\u001b[1;32m--> 324\u001b[0m \u001b[38;5;28;01mreturn\u001b[39;00m \u001b[43mio_open\u001b[49m\u001b[43m(\u001b[49m\u001b[43mfile\u001b[49m\u001b[43m,\u001b[49m\u001b[43m \u001b[49m\u001b[38;5;241;43m*\u001b[39;49m\u001b[43margs\u001b[49m\u001b[43m,\u001b[49m\u001b[43m \u001b[49m\u001b[38;5;241;43m*\u001b[39;49m\u001b[38;5;241;43m*\u001b[39;49m\u001b[43mkwargs\u001b[49m\u001b[43m)\u001b[49m\n",
      "\u001b[1;31mFileNotFoundError\u001b[0m: [Errno 2] No such file or directory: 'data/categories.txt'"
     ]
    }
   ],
   "source": [
    "llm = ChatOpenAI(model='gpt-3.5-turbo-0125')\n",
    "\n",
    "prompt_text1 = \"Translate '{chinese}' into Korean.(Do not include quotes)\"\n",
    "prompt1 = ChatPromptTemplate.from_template(prompt_text1)\n",
    "\n",
    "with open(\"prompts/categories.txt\", 'r', encoding='utf-8') as file: categories = file.read()\n",
    "\n",
    "prompt_text2 = \"Classify the product '{product}' into one of the categories below.\" \\\n",
    "               \"(Nothing is needed other than the category itself)\\nCategories:\\n\" + categories\n",
    "prompt2 = ChatPromptTemplate.from_template(prompt_text2)\n",
    "\n",
    "prompt_text3 = \"Extract a list of 5 selling points from the given brief description of the product in Korean. \" \\\n",
    "               \"Those 5 selling points should contain 5 various aspects and preferably not overlap with each other. \" \\\n",
    "               \"The elements of the list should be in one line without any numbering and seperated only by a comma.\\n\" \\\n",
    "               \"Breif description of the product: {product}\"\n",
    "prompt3 = ChatPromptTemplate.from_template(prompt_text3)\n",
    "\n",
    "parser = StrOutputParser()\n",
    "\n",
    "chain1 = {\"chinese\": RunnablePassthrough()} | prompt1 | llm | parser\n",
    "chain2 = {\"product\": RunnablePassthrough()} | prompt2 | llm | parser\n",
    "chain3 = {\"product\": RunnablePassthrough()} | prompt3 | llm | parser"
   ]
  },
  {
   "cell_type": "code",
   "execution_count": 5,
   "metadata": {},
   "outputs": [],
   "source": [
    "product_name_kor = []\n",
    "\n",
    "final_chain = chain1 | (lambda p: (product_name_kor.append(p), p)[-1]) | chain2\n",
    "\n",
    "product_name_chn = pd.read_csv(\"data/data1.csv\")[\"product_name_chn\"].tolist()\n",
    "\n",
    "product_category = final_chain.batch(product_name_chn, config={\"max_concurrency\": 100})\n",
    "\n",
    "product_selling_points = chain3.batch(product_name_kor, config={\"max_concurrency\": 100})"
   ]
  },
  {
   "cell_type": "code",
   "execution_count": 6,
   "metadata": {},
   "outputs": [],
   "source": [
    "df = pd.DataFrame({\n",
    "    'product_name_chn': product_name_chn,\n",
    "    'product_name_kor': product_name_kor,\n",
    "    'product_category': product_category,\n",
    "    'product_selling_points': product_selling_points\n",
    "})\n",
    "\n",
    "df.to_csv(\"data/data2.csv\", index=False)"
   ]
  }
 ],
 "metadata": {
  "kernelspec": {
   "display_name": "Python 3",
   "language": "python",
   "name": "python3"
  },
  "language_info": {
   "codemirror_mode": {
    "name": "ipython",
    "version": 3
   },
   "file_extension": ".py",
   "mimetype": "text/x-python",
   "name": "python",
   "nbconvert_exporter": "python",
   "pygments_lexer": "ipython3",
   "version": "3.11.5"
  }
 },
 "nbformat": 4,
 "nbformat_minor": 2
}
