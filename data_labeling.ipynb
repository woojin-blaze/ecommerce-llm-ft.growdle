{
 "cells": [
  {
   "cell_type": "markdown",
   "metadata": {},
   "source": [
    "### data2의 피처들을 활용하여 홍보문구, 연관 키워드 생성 후 data3에 저장\n",
    "\n",
    "1. data3.csv\n",
    "    - product_title : 생성한 상품 제목\n",
    "    - detailed_description : 생성한 홍보문구\n",
    "    - related_search_keywords : 생성한 연관 키워드 리스트\n",
    "2. prompts 디렉토리에 프롬프트 텍스트 저장되어 있음"
   ]
  },
  {
   "cell_type": "code",
   "execution_count": 2,
   "metadata": {},
   "outputs": [],
   "source": [
    "from langchain_openai import ChatOpenAI\n",
    "from langchain_core.prompts import ChatPromptTemplate\n",
    "from langchain_core.output_parsers import StrOutputParser\n",
    "from langchain_core.runnables import RunnablePassthrough\n",
    "import pandas as pd"
   ]
  },
  {
   "cell_type": "code",
   "execution_count": 9,
   "metadata": {},
   "outputs": [],
   "source": [
    "llm = ChatOpenAI(model='gpt-3-turbo-0125')\n",
    "\n",
    "with open(\"prompts/product_title_prompt.txt\", 'r', encoding='utf-8') as file: product_title_prompt = file.read()\n",
    "with open(\"prompts/product_description_prompt.txt\", 'r', encoding='utf-8') as file: product_description_prompt = file.read()\n",
    "with open(\"prompts/related_keywords_prompt.txt\", 'r', encoding='utf-8') as file: related_keywords_prompt = file.read()\n",
    "\n",
    "input_prompt_text = \"Rough description: {product_name} \\n\" \\\n",
    "              \"Category: {product_category} \\n\" \\\n",
    "              \"Selling points: {product_selling_points} \\n\"\n",
    "\n",
    "prompt1 = ChatPromptTemplate.from_template(product_title_prompt + input_prompt_text)\n",
    "prompt2 = ChatPromptTemplate.from_template(product_description_prompt + input_prompt_text)\n",
    "prompt3 = ChatPromptTemplate.from_template(related_keywords_prompt + input_prompt_text)\n",
    "\n",
    "parser = StrOutputParser()\n",
    "\n",
    "\n",
    "chain1 = {\"product_category\": RunnablePassthrough(), \"product_name\": RunnablePassthrough(), \"product_selling_points\": RunnablePassthrough()} | prompt1 | llm | parser\n",
    "chain2 = {\"product_category\": RunnablePassthrough(), \"product_name\": RunnablePassthrough(), \"product_selling_points\": RunnablePassthrough()} | prompt2 | llm | parser\n",
    "chain3 = {\"product_category\": RunnablePassthrough(), \"product_name\": RunnablePassthrough(), \"product_selling_points\": RunnablePassthrough()} | prompt3 | llm | parser"
   ]
  },
  {
   "cell_type": "code",
   "execution_count": null,
   "metadata": {},
   "outputs": [],
   "source": [
    "data2_csv = pd.read_csv(\"data/data2.csv\")\n",
    "product_name_chn = data2_csv[\"product_name_chn\"]\n",
    "product_name_kor = data2_csv[\"product_name_kor\"]\n",
    "product_category = data2_csv[\"product_category\"]\n",
    "product_selling_points = data2_csv[\"product_selling_points\"]\n",
    "\n",
    "\n",
    "product_title = chain1.batch(list(zip(product_name_kor, product_category, product_selling_points)), config={\"max_concurrency\": 200})\n",
    "detailed_description = chain2.batch(list(zip(product_name_kor, product_category, product_selling_points)), config={\"max_concurrency\": 200})\n",
    "related_keywords = chain3.batch(list(zip(product_name_kor, product_category, product_selling_points)), config={\"max_concurrency\": 200})"
   ]
  },
  {
   "cell_type": "code",
   "execution_count": null,
   "metadata": {},
   "outputs": [],
   "source": [
    "for i in range(len(product_title)):\n",
    "    if (product_title[i][:14] == \"Product title:\"): product_title[i] = product_title[i][15:]\n",
    "\n",
    "for j in range(len(detailed_description)):\n",
    "    if (detailed_description[j][:33] == \"Detailed promotional description:\"): detailed_description[j] = detailed_description[j][35:]\n",
    "\n",
    "for k in range(len(related_keywords)):\n",
    "    if (\"Related search keywords:\" in related_keywords[k]):\n",
    "        related_keywords[k] = related_keywords[k].split(\"Related search keywords: \")[1][:-1]"
   ]
  },
  {
   "cell_type": "code",
   "execution_count": null,
   "metadata": {},
   "outputs": [],
   "source": [
    "df = pd.DataFrame({'product_name_chn': product_name_chn,\n",
    "                   'product_name_kor': product_name_kor,\n",
    "                   'product_title' : product_title,\n",
    "                   'detailed_description': detailed_description,\n",
    "                   'related_search_keywords': related_keywords})\n",
    "df.to_csv(\"data/data3.csv\", index=False)"
   ]
  }
 ],
 "metadata": {
  "kernelspec": {
   "display_name": "Python 3",
   "language": "python",
   "name": "python3"
  },
  "language_info": {
   "codemirror_mode": {
    "name": "ipython",
    "version": 3
   },
   "file_extension": ".py",
   "mimetype": "text/x-python",
   "name": "python",
   "nbconvert_exporter": "python",
   "pygments_lexer": "ipython3",
   "version": "3.11.5"
  }
 },
 "nbformat": 4,
 "nbformat_minor": 2
}
