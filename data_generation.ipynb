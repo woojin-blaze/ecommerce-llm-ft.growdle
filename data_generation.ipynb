{
 "cells": [
  {
   "cell_type": "code",
   "execution_count": 9,
   "metadata": {},
   "outputs": [],
   "source": [
    "from langchain_openai import ChatOpenAI\n",
    "from langchain_core.prompts import ChatPromptTemplate\n",
    "from langchain_core.output_parsers import StrOutputParser\n",
    "from langchain_core.runnables import RunnablePassthrough\n",
    "\n",
    "\n",
    "llm = ChatOpenAI(model='gpt-3.5-turbo-0125', max_tokens=50)\n",
    "\n",
    "prompt_text = \"Generate one data similar in format to the provided examples in one line Chinese.\\n{examples}\"\n",
    "prompt = ChatPromptTemplate.from_template(prompt_text)\n",
    "\n",
    "parser = StrOutputParser()\n",
    "\n",
    "chain = {\"examples\": RunnablePassthrough()} | prompt | llm | parser\n"
   ]
  },
  {
   "cell_type": "markdown",
   "metadata": {},
   "source": [
    "### data1의 중국어 상품명 데이터 늘리기\n",
    "\n",
    "[Hyperparameter 설명]\n",
    "1. n_sample : 중국어 상품명 하나를 생성하기 위해 참고할 예시의 개수 (기존의 data1에서 랜덤 추출)\n",
    "2. n_generate : data1을 한번 읽어들여왔을 때 새로운 데이터를 생성하는 횟수 (=늘어나는 데이터 개수)\n",
    "\n",
    "[전체 프로세스]\n",
    "1. product_name_chn(list)에 data1 불러옴\n",
    "2. data1에서 n_sample개의 예시를 랜덤 추출하여 중국어 상품명 하나 생성\n",
    "3. 2번 과정을 n_gerenate번 반복하고 생성된 n_generate개의 데이터를 data1에 추가"
   ]
  },
  {
   "cell_type": "code",
   "execution_count": 6,
   "metadata": {},
   "outputs": [],
   "source": [
    "# Hyperparameters\n",
    "\n",
    "n_sample = 5\n",
    "n_generate = 12000"
   ]
  },
  {
   "cell_type": "code",
   "execution_count": 10,
   "metadata": {},
   "outputs": [],
   "source": [
    "import random\n",
    "import pandas as pd\n",
    "\n",
    "\n",
    "product_name_chn = pd.read_csv(\"data/data1.csv\")[\"product_name_chn\"].tolist()\n",
    "\n",
    "random_examples = []\n",
    "\n",
    "for _ in range(n_generate):\n",
    "    input = random.sample(product_name_chn, n_sample)\n",
    "    # for item in input: product_name_chn.remove(item) # without replacement\n",
    "\n",
    "    examples = \"\"\n",
    "    for line in input: examples += (line + \" \\n\")\n",
    "    random_examples.append(examples)\n",
    "        \n",
    "new_product_name_chn = chain.batch(random_examples, config={\"max_concurrency\": 100})\n",
    "\n",
    "new_product_name_chn = pd.Series(data=new_product_name_chn, name=\"product_name_chn\")\n",
    "new_product_name_chn.to_csv(\"data/data1.csv\", mode='a', header=False, index=False)"
   ]
  }
 ],
 "metadata": {
  "kernelspec": {
   "display_name": "Python 3",
   "language": "python",
   "name": "python3"
  },
  "language_info": {
   "codemirror_mode": {
    "name": "ipython",
    "version": 3
   },
   "file_extension": ".py",
   "mimetype": "text/x-python",
   "name": "python",
   "nbconvert_exporter": "python",
   "pygments_lexer": "ipython3",
   "version": "3.11.5"
  }
 },
 "nbformat": 4,
 "nbformat_minor": 2
}
